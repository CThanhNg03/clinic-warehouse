{
 "cells": [
  {
   "cell_type": "code",
   "execution_count": null,
   "metadata": {},
   "outputs": [],
   "source": [
    "from pyspark.sql import SparkSession\n",
    "from pyspark.sql import functions as F\n",
    "\n",
    "spark = SparkSession.builder \\\n",
    "    .appName(\"Model \") \\\n",
    "    .getOrCreate()\n",
    "\n",
    "# Load the data\n",
    "df = spark.read.parquet(\"hdfs://\")"
   ]
  }
 ],
 "metadata": {
  "kernelspec": {
   "display_name": ".linuxvenv",
   "language": "python",
   "name": "python3"
  },
  "language_info": {
   "name": "python",
   "version": "3.10.12"
  }
 },
 "nbformat": 4,
 "nbformat_minor": 2
}
